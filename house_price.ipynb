# 🧠 House Price Prediction - Full Code

# 📦 Step 1: Import libraries
import pandas as pd
import numpy as np
import matplotlib.pyplot as plt
import seaborn as sns

from sklearn.model_selection import train_test_split
from sklearn.linear_model import LinearRegression
from sklearn.metrics import mean_squared_error, r2_score

# 📁 Step 2: Load training data
df = pd.read_csv("train.csv")
print("Training data shape:", df.shape)
df.head()

# 🔧 Step 3: Data preprocessing
# Drop columns with too many null values
df = df.drop(['Alley', 'PoolQC', 'Fence', 'MiscFeature', 'FireplaceQu'], axis=1, errors='ignore')

# Fill missing numerical columns with median
num_cols = df.select_dtypes(include=['float64', 'int64']).columns
df[num_cols] = df[num_cols].fillna(df[num_cols].median())

# Fill missing categorical columns with mode
cat_cols = df.select_dtypes(include=['object']).columns
df[cat_cols] = df[cat_cols].fillna(df[cat_cols].mode().iloc[0])

# One-hot encode categorical variables
df = pd.get_dummies(df, drop_first=True)

# 🧪 Step 4: Train-Test split
X = df.drop(['SalePrice', 'Id'], axis=1)
y = df['SalePrice']

X_train, X_val, y_train, y_val = train_test_split(X, y, test_size=0.2, random_state=42)

# 🤖 Step 5: Train Linear Regression model
model = LinearRegression()
model.fit(X_train, y_train)

# 📈 Step 6: Evaluate model
y_pred = model.predict(X_val)
print("R² Score:", r2_score(y_val, y_pred))
print("RMSE:", np.sqrt(mean_squared_error(y_val, y_pred)))

# 🔍 Step 7: Visualize actual vs predicted
plt.figure(figsize=(8,6))
plt.scatter(y_val, y_pred, alpha=0.6, color='blue')
plt.xlabel("Actual Sale Price")
plt.ylabel("Predicted Sale Price")
plt.title("Actual vs Predicted Sale Prices")
plt.grid(True)
plt.show()

# 📁 Step 8: Load test data
test_data = pd.read_csv("test.csv")
print("Test data shape:", test_data.shape)
test_data.head()

# 🧹 Step 9: Preprocess test data
test_data = test_data.drop(['Alley', 'PoolQC', 'Fence', 'MiscFeature', 'FireplaceQu'], axis=1, errors='ignore')

# Fill missing values
num_cols = test_data.select_dtypes(include=['float64', 'int64']).columns
test_data[num_cols] = test_data[num_cols].fillna(test_data[num_cols].median())

cat_cols = test_data.select_dtypes(include=['object']).columns
test_data[cat_cols] = test_data[cat_cols].fillna(test_data[cat_cols].mode().iloc[0])

# One-hot encode
test_data = pd.get_dummies(test_data, drop_first=True)

# Align test columns with training columns
X_test_final = test_data.reindex(columns=X_train.columns, fill_value=0)

# 📊 Step 10: Predict on test data
test_preds = model.predict(X_test_final)

# 📦 Step 11: Save predictions to submission.csv
submission = pd.DataFrame({
    "Id": test_data["Id"],
    "SalePrice": test_preds
})

submission.to_csv("submission.csv", index=False)
print("✅ Submission file saved as submission.csv")
